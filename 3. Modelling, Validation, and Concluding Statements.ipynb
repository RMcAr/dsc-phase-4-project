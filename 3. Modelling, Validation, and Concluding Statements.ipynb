{
 "cells": [
  {
   "cell_type": "markdown",
   "metadata": {},
   "source": [
    "# Modelling"
   ]
  },
  {
   "cell_type": "code",
   "execution_count": 3,
   "metadata": {},
   "outputs": [
    {
     "name": "stdout",
     "output_type": "stream",
     "text": [
      "fsds v0.2.27 loaded.  Read the docs: https://fs-ds.readthedocs.io/en/latest/ \n"
     ]
    },
    {
     "data": {
      "text/html": [
       "<style  type=\"text/css\" >\n",
       "</style><table id=\"T_8564c264_4091_11eb_bcf1_144f8ac5640c\" ><caption>Loaded Packages and Handles</caption><thead>    <tr>        <th class=\"col_heading level0 col0\" >Handle</th>        <th class=\"col_heading level0 col1\" >Package</th>        <th class=\"col_heading level0 col2\" >Description</th>    </tr></thead><tbody>\n",
       "                <tr>\n",
       "                                <td id=\"T_8564c264_4091_11eb_bcf1_144f8ac5640crow0_col0\" class=\"data row0 col0\" >dp</td>\n",
       "                        <td id=\"T_8564c264_4091_11eb_bcf1_144f8ac5640crow0_col1\" class=\"data row0 col1\" >IPython.display</td>\n",
       "                        <td id=\"T_8564c264_4091_11eb_bcf1_144f8ac5640crow0_col2\" class=\"data row0 col2\" >Display modules with helpful display and clearing commands.</td>\n",
       "            </tr>\n",
       "            <tr>\n",
       "                                <td id=\"T_8564c264_4091_11eb_bcf1_144f8ac5640crow1_col0\" class=\"data row1 col0\" >fs</td>\n",
       "                        <td id=\"T_8564c264_4091_11eb_bcf1_144f8ac5640crow1_col1\" class=\"data row1 col1\" >fsds</td>\n",
       "                        <td id=\"T_8564c264_4091_11eb_bcf1_144f8ac5640crow1_col2\" class=\"data row1 col2\" >Custom data science bootcamp student package</td>\n",
       "            </tr>\n",
       "            <tr>\n",
       "                                <td id=\"T_8564c264_4091_11eb_bcf1_144f8ac5640crow2_col0\" class=\"data row2 col0\" >mpl</td>\n",
       "                        <td id=\"T_8564c264_4091_11eb_bcf1_144f8ac5640crow2_col1\" class=\"data row2 col1\" >matplotlib</td>\n",
       "                        <td id=\"T_8564c264_4091_11eb_bcf1_144f8ac5640crow2_col2\" class=\"data row2 col2\" >Matplotlib's base OOP module with formatting artists</td>\n",
       "            </tr>\n",
       "            <tr>\n",
       "                                <td id=\"T_8564c264_4091_11eb_bcf1_144f8ac5640crow3_col0\" class=\"data row3 col0\" >plt</td>\n",
       "                        <td id=\"T_8564c264_4091_11eb_bcf1_144f8ac5640crow3_col1\" class=\"data row3 col1\" >matplotlib.pyplot</td>\n",
       "                        <td id=\"T_8564c264_4091_11eb_bcf1_144f8ac5640crow3_col2\" class=\"data row3 col2\" >Matplotlib's matlab-like plotting module</td>\n",
       "            </tr>\n",
       "            <tr>\n",
       "                                <td id=\"T_8564c264_4091_11eb_bcf1_144f8ac5640crow4_col0\" class=\"data row4 col0\" >np</td>\n",
       "                        <td id=\"T_8564c264_4091_11eb_bcf1_144f8ac5640crow4_col1\" class=\"data row4 col1\" >numpy</td>\n",
       "                        <td id=\"T_8564c264_4091_11eb_bcf1_144f8ac5640crow4_col2\" class=\"data row4 col2\" >scientific computing with Python</td>\n",
       "            </tr>\n",
       "            <tr>\n",
       "                                <td id=\"T_8564c264_4091_11eb_bcf1_144f8ac5640crow5_col0\" class=\"data row5 col0\" >pd</td>\n",
       "                        <td id=\"T_8564c264_4091_11eb_bcf1_144f8ac5640crow5_col1\" class=\"data row5 col1\" >pandas</td>\n",
       "                        <td id=\"T_8564c264_4091_11eb_bcf1_144f8ac5640crow5_col2\" class=\"data row5 col2\" >High performance data structures and tools</td>\n",
       "            </tr>\n",
       "            <tr>\n",
       "                                <td id=\"T_8564c264_4091_11eb_bcf1_144f8ac5640crow6_col0\" class=\"data row6 col0\" >sns</td>\n",
       "                        <td id=\"T_8564c264_4091_11eb_bcf1_144f8ac5640crow6_col1\" class=\"data row6 col1\" >seaborn</td>\n",
       "                        <td id=\"T_8564c264_4091_11eb_bcf1_144f8ac5640crow6_col2\" class=\"data row6 col2\" >High-level data visualization library based on matplotlib</td>\n",
       "            </tr>\n",
       "    </tbody></table>"
      ],
      "text/plain": [
       "<pandas.io.formats.style.Styler at 0x1e43109e1d0>"
      ]
     },
     "metadata": {},
     "output_type": "display_data"
    },
    {
     "data": {
      "text/html": [
       "        <script type=\"text/javascript\">\n",
       "        window.PlotlyConfig = {MathJaxConfig: 'local'};\n",
       "        if (window.MathJax) {MathJax.Hub.Config({SVG: {font: \"STIX-Web\"}});}\n",
       "        if (typeof require !== 'undefined') {\n",
       "        require.undef(\"plotly\");\n",
       "        requirejs.config({\n",
       "            paths: {\n",
       "                'plotly': ['https://cdn.plot.ly/plotly-latest.min']\n",
       "            }\n",
       "        });\n",
       "        require(['plotly'], function(Plotly) {\n",
       "            window._Plotly = Plotly;\n",
       "        });\n",
       "        }\n",
       "        </script>\n",
       "        "
      ]
     },
     "metadata": {},
     "output_type": "display_data"
    },
    {
     "name": "stdout",
     "output_type": "stream",
     "text": [
      "[i] Pandas .iplot() method activated.\n"
     ]
    },
    {
     "name": "stderr",
     "output_type": "stream",
     "text": [
      "C:\\Users\\rmcar\\Anaconda\\envs\\learn-env\\lib\\site-packages\\sklearn\\utils\\deprecation.py:143: FutureWarning:\n",
      "\n",
      "The sklearn.neighbors.base module is  deprecated in version 0.22 and will be removed in version 0.24. The corresponding classes / functions should instead be imported from sklearn.neighbors. Anything that cannot be imported from sklearn.neighbors is now part of the private API.\n",
      "\n",
      "C:\\Users\\rmcar\\Anaconda\\envs\\learn-env\\lib\\site-packages\\sklearn\\utils\\deprecation.py:143: FutureWarning:\n",
      "\n",
      "The sklearn.ensemble.bagging module is  deprecated in version 0.22 and will be removed in version 0.24. The corresponding classes / functions should instead be imported from sklearn.ensemble. Anything that cannot be imported from sklearn.ensemble is now part of the private API.\n",
      "\n",
      "C:\\Users\\rmcar\\Anaconda\\envs\\learn-env\\lib\\site-packages\\sklearn\\utils\\deprecation.py:143: FutureWarning:\n",
      "\n",
      "The sklearn.ensemble.base module is  deprecated in version 0.22 and will be removed in version 0.24. The corresponding classes / functions should instead be imported from sklearn.ensemble. Anything that cannot be imported from sklearn.ensemble is now part of the private API.\n",
      "\n",
      "C:\\Users\\rmcar\\Anaconda\\envs\\learn-env\\lib\\site-packages\\sklearn\\utils\\deprecation.py:143: FutureWarning:\n",
      "\n",
      "The sklearn.ensemble.forest module is  deprecated in version 0.22 and will be removed in version 0.24. The corresponding classes / functions should instead be imported from sklearn.ensemble. Anything that cannot be imported from sklearn.ensemble is now part of the private API.\n",
      "\n",
      "C:\\Users\\rmcar\\Anaconda\\envs\\learn-env\\lib\\site-packages\\sklearn\\utils\\deprecation.py:143: FutureWarning:\n",
      "\n",
      "The sklearn.utils.testing module is  deprecated in version 0.22 and will be removed in version 0.24. The corresponding classes / functions should instead be imported from sklearn.utils. Anything that cannot be imported from sklearn.utils is now part of the private API.\n",
      "\n",
      "C:\\Users\\rmcar\\Anaconda\\envs\\learn-env\\lib\\site-packages\\sklearn\\utils\\deprecation.py:143: FutureWarning:\n",
      "\n",
      "The sklearn.metrics.classification module is  deprecated in version 0.22 and will be removed in version 0.24. The corresponding classes / functions should instead be imported from sklearn.metrics. Anything that cannot be imported from sklearn.metrics is now part of the private API.\n",
      "\n"
     ]
    }
   ],
   "source": [
    "from fsds.imports import * \n",
    "\n",
    "import nltk\n",
    "from nltk.corpus import stopwords\n",
    "from nltk import word_tokenize, FreqDist, TweetTokenizer\n",
    "\n",
    "from sklearn import metrics\n",
    "from sklearn.feature_extraction.text import TfidfVectorizer, CountVectorizer, TfidfTransformer\n",
    "from sklearn.model_selection import train_test_split\n",
    "from sklearn.metrics import accuracy_score\n",
    "from sklearn.datasets import fetch_20newsgroups\n",
    "from sklearn.ensemble import RandomForestClassifier\n",
    "from sklearn.naive_bayes import MultinomialNB, GaussianNB\n",
    "\n",
    "from imblearn.over_sampling import SMOTE\n",
    "\n",
    "import pandas as pd\n",
    "import numpy as np\n",
    "import string"
   ]
  },
  {
   "cell_type": "code",
   "execution_count": 4,
   "metadata": {},
   "outputs": [
    {
     "data": {
      "text/html": [
       "<div>\n",
       "<style scoped>\n",
       "    .dataframe tbody tr th:only-of-type {\n",
       "        vertical-align: middle;\n",
       "    }\n",
       "\n",
       "    .dataframe tbody tr th {\n",
       "        vertical-align: top;\n",
       "    }\n",
       "\n",
       "    .dataframe thead th {\n",
       "        text-align: right;\n",
       "    }\n",
       "</style>\n",
       "<table border=\"1\" class=\"dataframe\">\n",
       "  <thead>\n",
       "    <tr style=\"text-align: right;\">\n",
       "      <th></th>\n",
       "      <th>text</th>\n",
       "      <th>sentiment</th>\n",
       "    </tr>\n",
       "  </thead>\n",
       "  <tbody>\n",
       "    <tr>\n",
       "      <th>0</th>\n",
       "      <td>.@wesley83 I have a 3G iPhone. After 3 hrs twe...</td>\n",
       "      <td>negative</td>\n",
       "    </tr>\n",
       "    <tr>\n",
       "      <th>1</th>\n",
       "      <td>@jessedee Know about @fludapp ? Awesome iPad/i...</td>\n",
       "      <td>positive</td>\n",
       "    </tr>\n",
       "    <tr>\n",
       "      <th>2</th>\n",
       "      <td>@swonderlin Can not wait for iPad 2 also. They...</td>\n",
       "      <td>positive</td>\n",
       "    </tr>\n",
       "    <tr>\n",
       "      <th>3</th>\n",
       "      <td>@sxsw I hope this year's festival isn't as cra...</td>\n",
       "      <td>negative</td>\n",
       "    </tr>\n",
       "    <tr>\n",
       "      <th>4</th>\n",
       "      <td>@sxtxstate great stuff on Fri SXSW: Marissa Ma...</td>\n",
       "      <td>positive</td>\n",
       "    </tr>\n",
       "    <tr>\n",
       "      <th>...</th>\n",
       "      <td>...</td>\n",
       "      <td>...</td>\n",
       "    </tr>\n",
       "    <tr>\n",
       "      <th>9088</th>\n",
       "      <td>Ipad everywhere. SXSW {link}</td>\n",
       "      <td>positive</td>\n",
       "    </tr>\n",
       "    <tr>\n",
       "      <th>9089</th>\n",
       "      <td>Wave, buzz... RT @mention We interrupt your re...</td>\n",
       "      <td>neutral</td>\n",
       "    </tr>\n",
       "    <tr>\n",
       "      <th>9090</th>\n",
       "      <td>Google's Zeiger, a physician never reported po...</td>\n",
       "      <td>neutral</td>\n",
       "    </tr>\n",
       "    <tr>\n",
       "      <th>9091</th>\n",
       "      <td>Some Verizon iPhone customers complained their...</td>\n",
       "      <td>neutral</td>\n",
       "    </tr>\n",
       "    <tr>\n",
       "      <th>9092</th>\n",
       "      <td>Ï¡Ïàü_ÊÎÒ£Áââ_£â_ÛâRT @...</td>\n",
       "      <td>neutral</td>\n",
       "    </tr>\n",
       "  </tbody>\n",
       "</table>\n",
       "<p>9093 rows × 2 columns</p>\n",
       "</div>"
      ],
      "text/plain": [
       "                                                   text sentiment\n",
       "0     .@wesley83 I have a 3G iPhone. After 3 hrs twe...  negative\n",
       "1     @jessedee Know about @fludapp ? Awesome iPad/i...  positive\n",
       "2     @swonderlin Can not wait for iPad 2 also. They...  positive\n",
       "3     @sxsw I hope this year's festival isn't as cra...  negative\n",
       "4     @sxtxstate great stuff on Fri SXSW: Marissa Ma...  positive\n",
       "...                                                 ...       ...\n",
       "9088                       Ipad everywhere. SXSW {link}  positive\n",
       "9089  Wave, buzz... RT @mention We interrupt your re...   neutral\n",
       "9090  Google's Zeiger, a physician never reported po...   neutral\n",
       "9091  Some Verizon iPhone customers complained their...   neutral\n",
       "9092  Ï¡Ïàü_ÊÎÒ£Áââ_£â_ÛâRT @...   neutral\n",
       "\n",
       "[9093 rows x 2 columns]"
      ]
     },
     "execution_count": 4,
     "metadata": {},
     "output_type": "execute_result"
    }
   ],
   "source": [
    "df = pd.read_csv('data/intro_df.csv')\n",
    "df = df.drop(columns = ['id', 'product'], axis = 1)\n",
    "df"
   ]
  },
  {
   "cell_type": "code",
   "execution_count": 5,
   "metadata": {},
   "outputs": [],
   "source": [
    "stops = (stopwords.words('english') +\n",
    "        list(string.punctuation) +\n",
    "        ['“','”','...',\"''\",'’','``'] + \n",
    "        [\"rt\", \"'s\", \"n't\", \"'re\", \"'m\", \"'ll\", \"--\", \"..\",'link', 'mention', 'austin', 'SXSW', 'sxsw', 'quot'] +\n",
    "        [str(i) for i in range(0, 10)])"
   ]
  },
  {
   "cell_type": "markdown",
   "metadata": {},
   "source": [
    "## 1. Classifying tweets on existence of sentiment\n",
    "We will first construct a binary classifier that splits our data into tweets that contain sentiment and tweets that do not have sentiment. For validating this stage of modelling, we will be most concerned with "
   ]
  },
  {
   "cell_type": "code",
   "execution_count": 6,
   "metadata": {},
   "outputs": [],
   "source": [
    "# we construct our target variable, 1 if a tweet has sentiment, 0 if it does not. Note that neutrality is considered without \n",
    "# sentiment\n",
    "\n",
    "has_sentiment_list = []\n",
    "\n",
    "for i in df['sentiment']:\n",
    "    if i == 'positive':\n",
    "        has_sentiment_list.append(1)\n",
    "    elif i == 'negative':\n",
    "        has_sentiment_list.append(1)\n",
    "    else:\n",
    "        has_sentiment_list.append(0)\n",
    "        \n",
    "df['has_sentiment'] = has_sentiment_list"
   ]
  },
  {
   "cell_type": "code",
   "execution_count": 7,
   "metadata": {},
   "outputs": [],
   "source": [
    "df = df.dropna()"
   ]
  },
  {
   "cell_type": "code",
   "execution_count": 8,
   "metadata": {},
   "outputs": [],
   "source": [
    "X = df['text']\n",
    "y = df['has_sentiment']"
   ]
  },
  {
   "cell_type": "code",
   "execution_count": 9,
   "metadata": {},
   "outputs": [],
   "source": [
    "X_train, X_test, y_train, y_test = train_test_split(X, y, random_state = 42, test_size = 0.25)"
   ]
  },
  {
   "cell_type": "code",
   "execution_count": 10,
   "metadata": {},
   "outputs": [
    {
     "data": {
      "text/plain": [
       "(6819,)"
      ]
     },
     "execution_count": 10,
     "metadata": {},
     "output_type": "execute_result"
    }
   ],
   "source": [
    "X_train.shape"
   ]
  },
  {
   "cell_type": "code",
   "execution_count": 11,
   "metadata": {},
   "outputs": [
    {
     "data": {
      "text/plain": [
       "0    0.613726\n",
       "1    0.386274\n",
       "Name: has_sentiment, dtype: float64"
      ]
     },
     "execution_count": 11,
     "metadata": {},
     "output_type": "execute_result"
    }
   ],
   "source": [
    "y_train.value_counts(1)"
   ]
  },
  {
   "cell_type": "code",
   "execution_count": 12,
   "metadata": {},
   "outputs": [],
   "source": [
    "# we tokenize\n",
    "\n",
    "tweet_tokenizer = nltk.TweetTokenizer(preserve_case=False)\n",
    "tweet_vectorizer = TfidfVectorizer(tokenizer = tweet_tokenizer.tokenize,\n",
    "                                 stop_words = stops,\n",
    "                                 decode_error = 'ignore',\n",
    "                                 strip_accents = \"ascii\")\n",
    "# and vectorize\n",
    "\n",
    "X_train_tfidf = tweet_vectorizer.fit_transform(X_train)\n",
    "X_test_tfidf = tweet_vectorizer.transform(X_test)\n"
   ]
  },
  {
   "cell_type": "code",
   "execution_count": 13,
   "metadata": {},
   "outputs": [
    {
     "name": "stderr",
     "output_type": "stream",
     "text": [
      "C:\\Users\\rmcar\\Anaconda\\envs\\learn-env\\lib\\site-packages\\sklearn\\utils\\deprecation.py:86: FutureWarning:\n",
      "\n",
      "Function safe_indexing is deprecated; safe_indexing is deprecated in version 0.22 and will be removed in version 0.24.\n",
      "\n"
     ]
    }
   ],
   "source": [
    "# we need to address our class imbalance, and will do so through SMOTE\n",
    "\n",
    "smote = SMOTE()\n",
    "\n",
    "X_train_tfidf_sm, y_train_sm = smote.fit_sample(X_train_tfidf, y_train)\n"
   ]
  },
  {
   "cell_type": "code",
   "execution_count": 14,
   "metadata": {},
   "outputs": [
    {
     "data": {
      "text/plain": [
       "MultinomialNB()"
      ]
     },
     "execution_count": 14,
     "metadata": {},
     "output_type": "execute_result"
    }
   ],
   "source": [
    "# we initialize our Multinomial Naive Bayes Classifier\n",
    "\n",
    "NB = MultinomialNB()\n",
    "NB.fit(X_train_tfidf_sm, y_train_sm)"
   ]
  },
  {
   "cell_type": "code",
   "execution_count": 15,
   "metadata": {},
   "outputs": [],
   "source": [
    "\n",
    "y_pred_sm = NB.predict(X_test_tfidf)"
   ]
  },
  {
   "cell_type": "code",
   "execution_count": 16,
   "metadata": {},
   "outputs": [],
   "source": [
    "def evaluate_model(y_test,y_hat_test,X_test,clf=None,\n",
    "                  scoring=metrics.recall_score,verbose=False,\n",
    "                  scorer=False, classes = None):\n",
    "    \"\"\"Quick/simple classification model evaluatiin\"\"\"\n",
    "\n",
    "    print(metrics.classification_report(y_test,y_hat_test,\n",
    "                                        target_names=classes))\n",
    "    \n",
    "    metrics.plot_confusion_matrix(clf,X_test,y_test,normalize='true',\n",
    "                                 cmap='Blues',display_labels=classes)\n",
    "    plt.show()\n",
    "#     if verbose:\n",
    "#         print(\"MODEL PARAMETERS:\")\n",
    "#         print(pd.Series(rf.get_params()))\n",
    "        \n",
    "    if scorer:\n",
    "        \n",
    "        return scoring(y_test,y_hat_test)"
   ]
  },
  {
   "cell_type": "code",
   "execution_count": 17,
   "metadata": {},
   "outputs": [
    {
     "name": "stdout",
     "output_type": "stream",
     "text": [
      "              precision    recall  f1-score   support\n",
      "\n",
      "  No Emotion       0.74      0.61      0.67      1359\n",
      "     Emotion       0.54      0.69      0.61       914\n",
      "\n",
      "    accuracy                           0.64      2273\n",
      "   macro avg       0.64      0.65      0.64      2273\n",
      "weighted avg       0.66      0.64      0.64      2273\n",
      "\n"
     ]
    },
    {
     "data": {
      "image/png": "[encoded data removed]",
      "text/plain": [
       "<Figure size 432x288 with 2 Axes>"
      ]
     },
     "metadata": {
      "needs_background": "light"
     },
     "output_type": "display_data"
    }
   ],
   "source": [
    "evaluate_model(y_test, y_pred_sm, X_test_tfidf, clf=NB, classes = ['No Emotion', 'Emotion'])"
   ]
  },
  {
   "cell_type": "code",
   "execution_count": 18,
   "metadata": {},
   "outputs": [
    {
     "name": "stdout",
     "output_type": "stream",
     "text": [
      "              precision    recall  f1-score   support\n",
      "\n",
      "  No Emotion       0.67      0.89      0.77      1359\n",
      "     Emotion       0.69      0.35      0.47       914\n",
      "\n",
      "    accuracy                           0.68      2273\n",
      "   macro avg       0.68      0.62      0.62      2273\n",
      "weighted avg       0.68      0.68      0.65      2273\n",
      "\n"
     ]
    },
    {
     "data": {
      "image/png": "[encoded data removed]",
      "text/plain": [
       "<Figure size 432x288 with 2 Axes>"
      ]
     },
     "metadata": {
      "needs_background": "light"
     },
     "output_type": "display_data"
    }
   ],
   "source": [
    "NB.fit(X_train_tfidf, y_train)\n",
    "y_pred = NB.predict(X_test_tfidf)\n",
    "evaluate_model(y_test, y_pred, X_test_tfidf, clf = NB, classes = ['No Emotion', 'Emotion'])"
   ]
  },
  {
   "cell_type": "markdown",
   "metadata": {},
   "source": [
    "The comparison here is to be expected. Because our smoted word vectors are balanced, there is some balance between our errors. Conversely, without smoting our data, we can see that our classifier is biased toward classifying a tweet as having no emotion, which is an issue, because the entire point of this model is to provide another dataset to be further classified between positive and negative emotion. Thus, we should try to avoid classifying tweets as having no sentiment, because this would remove them from the workflow and provide less information to our next model. "
   ]
  },
  {
   "cell_type": "code",
   "execution_count": 19,
   "metadata": {},
   "outputs": [
    {
     "data": {
      "text/plain": [
       "RandomForestClassifier()"
      ]
     },
     "execution_count": 19,
     "metadata": {},
     "output_type": "execute_result"
    }
   ],
   "source": [
    "# we initialize our Random Forest classifier\n",
    "RF = RandomForestClassifier()\n",
    "RF.fit(X_train_tfidf_sm, y_train_sm)"
   ]
  },
  {
   "cell_type": "code",
   "execution_count": 20,
   "metadata": {},
   "outputs": [],
   "source": [
    "\n",
    "y_pred_sm = RF.predict(X_test_tfidf)"
   ]
  },
  {
   "cell_type": "code",
   "execution_count": 21,
   "metadata": {},
   "outputs": [
    {
     "name": "stdout",
     "output_type": "stream",
     "text": [
      "              precision    recall  f1-score   support\n",
      "\n",
      "  No Emotion       0.72      0.78      0.75      1359\n",
      "     Emotion       0.63      0.55      0.59       914\n",
      "\n",
      "    accuracy                           0.69      2273\n",
      "   macro avg       0.67      0.67      0.67      2273\n",
      "weighted avg       0.68      0.69      0.68      2273\n",
      "\n"
     ]
    },
    {
     "data": {
      "image/png": "[encoded data removed]",
      "text/plain": [
       "<Figure size 432x288 with 2 Axes>"
      ]
     },
     "metadata": {
      "needs_background": "light"
     },
     "output_type": "display_data"
    }
   ],
   "source": [
    "evaluate_model(y_test, y_pred_sm, X_test_tfidf, clf=RF, classes = ['No Emotion', 'Emotion'])"
   ]
  },
  {
   "cell_type": "code",
   "execution_count": 22,
   "metadata": {},
   "outputs": [
    {
     "name": "stdout",
     "output_type": "stream",
     "text": [
      "              precision    recall  f1-score   support\n",
      "\n",
      "  No Emotion       0.67      0.89      0.77      1359\n",
      "     Emotion       0.69      0.35      0.47       914\n",
      "\n",
      "    accuracy                           0.68      2273\n",
      "   macro avg       0.68      0.62      0.62      2273\n",
      "weighted avg       0.68      0.68      0.65      2273\n",
      "\n"
     ]
    },
    {
     "data": {
      "image/png": "[encoded data removed]",
      "text/plain": [
       "<Figure size 432x288 with 2 Axes>"
      ]
     },
     "metadata": {
      "needs_background": "light"
     },
     "output_type": "display_data"
    }
   ],
   "source": [
    "RF.fit(X_train_tfidf, y_train)\n",
    "y_pred = NB.predict(X_test_tfidf)\n",
    "evaluate_model(y_test, y_pred, X_test_tfidf, clf = RF, classes = ['No Emotion', 'Emotion'])"
   ]
  },
  {
   "cell_type": "markdown",
   "metadata": {},
   "source": [
    "Well this is just terrible. "
   ]
  },
  {
   "cell_type": "code",
   "execution_count": 23,
   "metadata": {},
   "outputs": [],
   "source": [
    "# using Gausssian NB\n",
    "GNB = GaussianNB()"
   ]
  },
  {
   "cell_type": "code",
   "execution_count": 24,
   "metadata": {
    "scrolled": true
   },
   "outputs": [
    {
     "name": "stdout",
     "output_type": "stream",
     "text": [
      "              precision    recall  f1-score   support\n",
      "\n",
      "  No Emotion       0.67      0.89      0.77      1359\n",
      "     Emotion       0.69      0.35      0.47       914\n",
      "\n",
      "    accuracy                           0.68      2273\n",
      "   macro avg       0.68      0.62      0.62      2273\n",
      "weighted avg       0.68      0.68      0.65      2273\n",
      "\n"
     ]
    },
    {
     "data": {
      "image/png": "[encoded data removed]",
      "text/plain": [
       "<Figure size 432x288 with 2 Axes>"
      ]
     },
     "metadata": {
      "needs_background": "light"
     },
     "output_type": "display_data"
    }
   ],
   "source": [
    "GNB.fit(X_train_tfidf.toarray(), y_train)\n",
    "y_pred = NB.predict(X_test_tfidf)\n",
    "evaluate_model(y_test, y_pred, X_test_tfidf.toarray(), clf = GNB, classes = ['No Emotion', 'Emotion'])"
   ]
  },
  {
   "cell_type": "markdown",
   "metadata": {},
   "source": [
    " So, while a Gaussian Naive Bayes estimator performs best on tweets that contain sentiment, Multinomial NB is better suited to \n",
    " classifying tweets that have no sentiment. Let's forget random forest happened. For our purposes, which will be better fulfilled with a larger pool of tweets\n",
    " classified as sentimental, we will be continuing with our Gaussian Naive Bayes."
   ]
  },
  {
   "cell_type": "markdown",
   "metadata": {},
   "source": [
    "## 2. Classifying Tweets as Positive or Negative"
   ]
  },
  {
   "cell_type": "markdown",
   "metadata": {},
   "source": [
    "Now we build a model that is able to distinguish between positive and negative tweets, assuming that we have a dataset that contains exclusively negative and postive tweets, no neutral tweets. In general, it is more important to correctly classify negative sentiment over positive sentiment, because a business is always looking for ways to improve. As such, we will be prioritizing accuracy during this phase of modelling. "
   ]
  },
  {
   "cell_type": "code",
   "execution_count": 25,
   "metadata": {},
   "outputs": [
    {
     "data": {
      "text/html": [
       "<div>\n",
       "<style scoped>\n",
       "    .dataframe tbody tr th:only-of-type {\n",
       "        vertical-align: middle;\n",
       "    }\n",
       "\n",
       "    .dataframe tbody tr th {\n",
       "        vertical-align: top;\n",
       "    }\n",
       "\n",
       "    .dataframe thead th {\n",
       "        text-align: right;\n",
       "    }\n",
       "</style>\n",
       "<table border=\"1\" class=\"dataframe\">\n",
       "  <thead>\n",
       "    <tr style=\"text-align: right;\">\n",
       "      <th></th>\n",
       "      <th>text</th>\n",
       "      <th>pos_sentiment</th>\n",
       "    </tr>\n",
       "  </thead>\n",
       "  <tbody>\n",
       "    <tr>\n",
       "      <th>0</th>\n",
       "      <td>.@wesley83 I have a 3G iPhone. After 3 hrs twe...</td>\n",
       "      <td>0.0</td>\n",
       "    </tr>\n",
       "    <tr>\n",
       "      <th>1</th>\n",
       "      <td>@jessedee Know about @fludapp ? Awesome iPad/i...</td>\n",
       "      <td>1.0</td>\n",
       "    </tr>\n",
       "    <tr>\n",
       "      <th>2</th>\n",
       "      <td>@swonderlin Can not wait for iPad 2 also. They...</td>\n",
       "      <td>1.0</td>\n",
       "    </tr>\n",
       "    <tr>\n",
       "      <th>3</th>\n",
       "      <td>@sxsw I hope this year's festival isn't as cra...</td>\n",
       "      <td>0.0</td>\n",
       "    </tr>\n",
       "    <tr>\n",
       "      <th>4</th>\n",
       "      <td>@sxtxstate great stuff on Fri SXSW: Marissa Ma...</td>\n",
       "      <td>1.0</td>\n",
       "    </tr>\n",
       "    <tr>\n",
       "      <th>...</th>\n",
       "      <td>...</td>\n",
       "      <td>...</td>\n",
       "    </tr>\n",
       "    <tr>\n",
       "      <th>3186</th>\n",
       "      <td>@mention your PR guy just convinced me to swit...</td>\n",
       "      <td>1.0</td>\n",
       "    </tr>\n",
       "    <tr>\n",
       "      <th>3187</th>\n",
       "      <td>&amp;quot;papyrus...sort of like the ipad&amp;quot; - ...</td>\n",
       "      <td>1.0</td>\n",
       "    </tr>\n",
       "    <tr>\n",
       "      <th>3188</th>\n",
       "      <td>Diller says Google TV &amp;quot;might be run over ...</td>\n",
       "      <td>0.0</td>\n",
       "    </tr>\n",
       "    <tr>\n",
       "      <th>3189</th>\n",
       "      <td>I've always used Camera+ for my iPhone b/c it ...</td>\n",
       "      <td>1.0</td>\n",
       "    </tr>\n",
       "    <tr>\n",
       "      <th>3190</th>\n",
       "      <td>Ipad everywhere. SXSW {link}</td>\n",
       "      <td>1.0</td>\n",
       "    </tr>\n",
       "  </tbody>\n",
       "</table>\n",
       "<p>3191 rows × 2 columns</p>\n",
       "</div>"
      ],
      "text/plain": [
       "                                                   text  pos_sentiment\n",
       "0     .@wesley83 I have a 3G iPhone. After 3 hrs twe...            0.0\n",
       "1     @jessedee Know about @fludapp ? Awesome iPad/i...            1.0\n",
       "2     @swonderlin Can not wait for iPad 2 also. They...            1.0\n",
       "3     @sxsw I hope this year's festival isn't as cra...            0.0\n",
       "4     @sxtxstate great stuff on Fri SXSW: Marissa Ma...            1.0\n",
       "...                                                 ...            ...\n",
       "3186  @mention your PR guy just convinced me to swit...            1.0\n",
       "3187  &quot;papyrus...sort of like the ipad&quot; - ...            1.0\n",
       "3188  Diller says Google TV &quot;might be run over ...            0.0\n",
       "3189  I've always used Camera+ for my iPhone b/c it ...            1.0\n",
       "3190                       Ipad everywhere. SXSW {link}            1.0\n",
       "\n",
       "[3191 rows x 2 columns]"
      ]
     },
     "execution_count": 25,
     "metadata": {},
     "output_type": "execute_result"
    }
   ],
   "source": [
    "df_sentiment = pd.read_csv('data/sentimental_df.csv')\n",
    "df = df_sentiment.drop(columns = ['id', 'id.1', 'product', 'is_google', 'is_apple', 'has_sentiment', 'sentiment'])\n",
    "df"
   ]
  },
  {
   "cell_type": "code",
   "execution_count": 26,
   "metadata": {},
   "outputs": [
    {
     "data": {
      "text/plain": [
       "(2672.0, 3191)"
      ]
     },
     "execution_count": 26,
     "metadata": {},
     "output_type": "execute_result"
    }
   ],
   "source": [
    "X = df['text']\n",
    "y = df['pos_sentiment']\n",
    "\n",
    "sum(y), len(y) # again, very strong class imbalance. Much stronger than in our prior model. "
   ]
  },
  {
   "cell_type": "code",
   "execution_count": 27,
   "metadata": {},
   "outputs": [],
   "source": [
    "X_train, X_test, y_train, y_test = train_test_split(X, y, random_state = 42, test_size = 0.25)"
   ]
  },
  {
   "cell_type": "code",
   "execution_count": 28,
   "metadata": {},
   "outputs": [],
   "source": [
    "tweet_tokenizer = nltk.TweetTokenizer(preserve_case=False)\n",
    "tweet_vectorizer = TfidfVectorizer(tokenizer = tweet_tokenizer.tokenize,\n",
    "                                 stop_words = stops,\n",
    "                                 decode_error = 'ignore',\n",
    "                                 strip_accents = \"ascii\")\n",
    "\n",
    "X_train_tfidf = tweet_vectorizer.fit_transform(X_train)\n",
    "X_test_tfidf = tweet_vectorizer.transform(X_test)"
   ]
  },
  {
   "cell_type": "code",
   "execution_count": 29,
   "metadata": {},
   "outputs": [
    {
     "name": "stderr",
     "output_type": "stream",
     "text": [
      "C:\\Users\\rmcar\\Anaconda\\envs\\learn-env\\lib\\site-packages\\sklearn\\utils\\deprecation.py:86: FutureWarning:\n",
      "\n",
      "Function safe_indexing is deprecated; safe_indexing is deprecated in version 0.22 and will be removed in version 0.24.\n",
      "\n"
     ]
    }
   ],
   "source": [
    "smote = SMOTE()\n",
    "\n",
    "X_train_tfidf_sm, y_train_sm = smote.fit_sample(X_train_tfidf, y_train)"
   ]
  },
  {
   "cell_type": "code",
   "execution_count": 31,
   "metadata": {},
   "outputs": [],
   "source": [
    "# we initialize our models\n",
    "\n",
    "NB = MultinomialNB()\n",
    "GNB = GaussianNB()\n",
    "RF = RandomForestClassifier(n_estimators = 100)"
   ]
  },
  {
   "cell_type": "code",
   "execution_count": 32,
   "metadata": {},
   "outputs": [
    {
     "name": "stdout",
     "output_type": "stream",
     "text": [
      "              precision    recall  f1-score   support\n",
      "\n",
      "    Positive       0.47      0.65      0.54       125\n",
      "    Negative       0.93      0.86      0.89       673\n",
      "\n",
      "    accuracy                           0.83       798\n",
      "   macro avg       0.70      0.75      0.72       798\n",
      "weighted avg       0.86      0.83      0.84       798\n",
      "\n"
     ]
    },
    {
     "data": {
      "image/png": "[encoded data removed]",
      "text/plain": [
       "<Figure size 432x288 with 2 Axes>"
      ]
     },
     "metadata": {
      "needs_background": "light"
     },
     "output_type": "display_data"
    }
   ],
   "source": [
    "# Naive Bayes\n",
    "NB.fit(X_train_tfidf_sm, y_train_sm)\n",
    "y_pred = NB.predict(X_test_tfidf)\n",
    "evaluate_model(y_test, y_pred, X_test_tfidf, clf = NB, classes = ['Positive', 'Negative'])"
   ]
  },
  {
   "cell_type": "code",
   "execution_count": 33,
   "metadata": {},
   "outputs": [
    {
     "name": "stdout",
     "output_type": "stream",
     "text": [
      "              precision    recall  f1-score   support\n",
      "\n",
      "    Positive       0.33      0.47      0.39       125\n",
      "    Negative       0.89      0.82      0.85       673\n",
      "\n",
      "    accuracy                           0.76       798\n",
      "   macro avg       0.61      0.65      0.62       798\n",
      "weighted avg       0.80      0.76      0.78       798\n",
      "\n"
     ]
    },
    {
     "data": {
      "image/png": "[encoded data removed]",
      "text/plain": [
       "<Figure size 432x288 with 2 Axes>"
      ]
     },
     "metadata": {
      "needs_background": "light"
     },
     "output_type": "display_data"
    }
   ],
   "source": [
    "# Gaussian Naive Bayes()\n",
    "GNB.fit(X_train_tfidf_sm.toarray(), y_train_sm)\n",
    "y_pred = GNB.predict(X_test_tfidf.toarray())\n",
    "evaluate_model(y_test, y_pred, X_test_tfidf.toarray(), clf = GNB, classes = ['Positive', 'Negative'])"
   ]
  },
  {
   "cell_type": "code",
   "execution_count": 35,
   "metadata": {},
   "outputs": [
    {
     "name": "stdout",
     "output_type": "stream",
     "text": [
      "              precision    recall  f1-score   support\n",
      "\n",
      "    Positive       0.87      0.21      0.34       125\n",
      "    Negative       0.87      0.99      0.93       673\n",
      "\n",
      "    accuracy                           0.87       798\n",
      "   macro avg       0.87      0.60      0.63       798\n",
      "weighted avg       0.87      0.87      0.84       798\n",
      "\n"
     ]
    },
    {
     "data": {
      "image/png": "[encoded data removed]",
      "text/plain": [
       "<Figure size 432x288 with 2 Axes>"
      ]
     },
     "metadata": {
      "needs_background": "light"
     },
     "output_type": "display_data"
    }
   ],
   "source": [
    "# Random Forest\n",
    "RF.fit(X_train_tfidf_sm, y_train_sm)\n",
    "y_pred = RF.predict(X_test_tfidf)\n",
    "evaluate_model(y_test, y_pred, X_test_tfidf, clf = RF, classes = ['Positive', 'Negative'])"
   ]
  },
  {
   "cell_type": "markdown",
   "metadata": {},
   "source": [
    "According to weighted F1 scores, our Random Forest classifier performed best in this phase, and also was extremely accurate in classifying negative tweets, which lends to a great accuracy score of 87%. "
   ]
  },
  {
   "cell_type": "markdown",
   "metadata": {},
   "source": [
    "# Modelling Conclusions"
   ]
  },
  {
   "cell_type": "markdown",
   "metadata": {},
   "source": [
    "We broke our modelling process into two steps; first, we classified our tweets on the existence of sentiment, splitting between neutral tweets and positive/negative tweets. Then, we classifed based upon positive or negative sentiment. We found that for classifying sentiment existence, Gaussian Naive Bayes performed best for our purposes, and for classifying positivity or negativity, a Random Forest perfomed best. "
   ]
  },
  {
   "cell_type": "markdown",
   "metadata": {},
   "source": [
    "# Further Work"
   ]
  },
  {
   "cell_type": "markdown",
   "metadata": {},
   "source": [
    "We decided to complete a two-stage classification process due to the heavy class imbalance that existed in our data. By lumping positive and negative tweets together, we were able to address class imbalance in the initial model. By removing neutral tweets first, we were also able to address the fact that neutral tweets far outnumbered positive or negative tweets. Had we completed a mutliclassification model, it would have certainly been extremely biased toward neutral tweets. By collecting a more balanced dataset, we would be better able to construct more elegant models."
   ]
  },
  {
   "cell_type": "markdown",
   "metadata": {},
   "source": [
    "Also, our data was clearly collected from a small sample space. This is evidenced by the fact that many of the tweets mentioned SXSW, or Austin. This informed us that these tweets are collected from one small area, during a small time period. While this is not an issue if we are looking to only make a model that can predict sentiment based on this small sample space, the applications of such a model are limited. Instead, we should strive to collect data that represents our full sample space, or all of twitter, to build a model that can be applied in most situations. "
   ]
  },
  {
   "cell_type": "code",
   "execution_count": null,
   "metadata": {},
   "outputs": [],
   "source": []
  }
 ],
 "metadata": {
  "kernelspec": {
   "display_name": "Python 3",
   "language": "python",
   "name": "python3"
  },
  "language_info": {
   "codemirror_mode": {
    "name": "ipython",
    "version": 3
   },
   "file_extension": ".py",
   "mimetype": "text/x-python",
   "name": "python",
   "nbconvert_exporter": "python",
   "pygments_lexer": "ipython3",
   "version": "3.6.12"
  }
 },
 "nbformat": 4,
 "nbformat_minor": 4
}
