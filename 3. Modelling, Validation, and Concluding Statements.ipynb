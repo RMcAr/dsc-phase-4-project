{
 "cells": [
  {
   "cell_type": "markdown",
   "metadata": {},
   "source": [
    "# Modelling"
   ]
  },
  {
   "cell_type": "code",
   "execution_count": 2,
   "metadata": {},
   "outputs": [
    {
     "name": "stdout",
     "output_type": "stream",
     "text": [
      "fsds v0.2.27 loaded.  Read the docs: https://fs-ds.readthedocs.io/en/latest/ \n"
     ]
    },
    {
     "data": {
      "text/html": [
       "<style  type=\"text/css\" >\n",
       "</style><table id=\"T_91de66dc_4609_11eb_8b9c_144f8ac5640c\" ><caption>Loaded Packages and Handles</caption><thead>    <tr>        <th class=\"col_heading level0 col0\" >Handle</th>        <th class=\"col_heading level0 col1\" >Package</th>        <th class=\"col_heading level0 col2\" >Description</th>    </tr></thead><tbody>\n",
       "                <tr>\n",
       "                                <td id=\"T_91de66dc_4609_11eb_8b9c_144f8ac5640crow0_col0\" class=\"data row0 col0\" >dp</td>\n",
       "                        <td id=\"T_91de66dc_4609_11eb_8b9c_144f8ac5640crow0_col1\" class=\"data row0 col1\" >IPython.display</td>\n",
       "                        <td id=\"T_91de66dc_4609_11eb_8b9c_144f8ac5640crow0_col2\" class=\"data row0 col2\" >Display modules with helpful display and clearing commands.</td>\n",
       "            </tr>\n",
       "            <tr>\n",
       "                                <td id=\"T_91de66dc_4609_11eb_8b9c_144f8ac5640crow1_col0\" class=\"data row1 col0\" >fs</td>\n",
       "                        <td id=\"T_91de66dc_4609_11eb_8b9c_144f8ac5640crow1_col1\" class=\"data row1 col1\" >fsds</td>\n",
       "                        <td id=\"T_91de66dc_4609_11eb_8b9c_144f8ac5640crow1_col2\" class=\"data row1 col2\" >Custom data science bootcamp student package</td>\n",
       "            </tr>\n",
       "            <tr>\n",
       "                                <td id=\"T_91de66dc_4609_11eb_8b9c_144f8ac5640crow2_col0\" class=\"data row2 col0\" >mpl</td>\n",
       "                        <td id=\"T_91de66dc_4609_11eb_8b9c_144f8ac5640crow2_col1\" class=\"data row2 col1\" >matplotlib</td>\n",
       "                        <td id=\"T_91de66dc_4609_11eb_8b9c_144f8ac5640crow2_col2\" class=\"data row2 col2\" >Matplotlib's base OOP module with formatting artists</td>\n",
       "            </tr>\n",
       "            <tr>\n",
       "                                <td id=\"T_91de66dc_4609_11eb_8b9c_144f8ac5640crow3_col0\" class=\"data row3 col0\" >plt</td>\n",
       "                        <td id=\"T_91de66dc_4609_11eb_8b9c_144f8ac5640crow3_col1\" class=\"data row3 col1\" >matplotlib.pyplot</td>\n",
       "                        <td id=\"T_91de66dc_4609_11eb_8b9c_144f8ac5640crow3_col2\" class=\"data row3 col2\" >Matplotlib's matlab-like plotting module</td>\n",
       "            </tr>\n",
       "            <tr>\n",
       "                                <td id=\"T_91de66dc_4609_11eb_8b9c_144f8ac5640crow4_col0\" class=\"data row4 col0\" >np</td>\n",
       "                        <td id=\"T_91de66dc_4609_11eb_8b9c_144f8ac5640crow4_col1\" class=\"data row4 col1\" >numpy</td>\n",
       "                        <td id=\"T_91de66dc_4609_11eb_8b9c_144f8ac5640crow4_col2\" class=\"data row4 col2\" >scientific computing with Python</td>\n",
       "            </tr>\n",
       "            <tr>\n",
       "                                <td id=\"T_91de66dc_4609_11eb_8b9c_144f8ac5640crow5_col0\" class=\"data row5 col0\" >pd</td>\n",
       "                        <td id=\"T_91de66dc_4609_11eb_8b9c_144f8ac5640crow5_col1\" class=\"data row5 col1\" >pandas</td>\n",
       "                        <td id=\"T_91de66dc_4609_11eb_8b9c_144f8ac5640crow5_col2\" class=\"data row5 col2\" >High performance data structures and tools</td>\n",
       "            </tr>\n",
       "            <tr>\n",
       "                                <td id=\"T_91de66dc_4609_11eb_8b9c_144f8ac5640crow6_col0\" class=\"data row6 col0\" >sns</td>\n",
       "                        <td id=\"T_91de66dc_4609_11eb_8b9c_144f8ac5640crow6_col1\" class=\"data row6 col1\" >seaborn</td>\n",
       "                        <td id=\"T_91de66dc_4609_11eb_8b9c_144f8ac5640crow6_col2\" class=\"data row6 col2\" >High-level data visualization library based on matplotlib</td>\n",
       "            </tr>\n",
       "    </tbody></table>"
      ],
      "text/plain": [
       "<pandas.io.formats.style.Styler at 0x1881548c1d0>"
      ]
     },
     "metadata": {},
     "output_type": "display_data"
    },
    {
     "data": {
      "text/html": [
       "        <script type=\"text/javascript\">\n",
       "        window.PlotlyConfig = {MathJaxConfig: 'local'};\n",
       "        if (window.MathJax) {MathJax.Hub.Config({SVG: {font: \"STIX-Web\"}});}\n",
       "        if (typeof require !== 'undefined') {\n",
       "        require.undef(\"plotly\");\n",
       "        requirejs.config({\n",
       "            paths: {\n",
       "                'plotly': ['https://cdn.plot.ly/plotly-latest.min']\n",
       "            }\n",
       "        });\n",
       "        require(['plotly'], function(Plotly) {\n",
       "            window._Plotly = Plotly;\n",
       "        });\n",
       "        }\n",
       "        </script>\n",
       "        "
      ]
     },
     "metadata": {},
     "output_type": "display_data"
    },
    {
     "name": "stdout",
     "output_type": "stream",
     "text": [
      "[i] Pandas .iplot() method activated.\n"
     ]
    },
    {
     "name": "stderr",
     "output_type": "stream",
     "text": [
      "C:\\Users\\rmcar\\Anaconda\\envs\\learn-env\\lib\\site-packages\\sklearn\\utils\\deprecation.py:143: FutureWarning:\n",
      "\n",
      "The sklearn.neighbors.base module is  deprecated in version 0.22 and will be removed in version 0.24. The corresponding classes / functions should instead be imported from sklearn.neighbors. Anything that cannot be imported from sklearn.neighbors is now part of the private API.\n",
      "\n",
      "C:\\Users\\rmcar\\Anaconda\\envs\\learn-env\\lib\\site-packages\\sklearn\\utils\\deprecation.py:143: FutureWarning:\n",
      "\n",
      "The sklearn.ensemble.bagging module is  deprecated in version 0.22 and will be removed in version 0.24. The corresponding classes / functions should instead be imported from sklearn.ensemble. Anything that cannot be imported from sklearn.ensemble is now part of the private API.\n",
      "\n",
      "C:\\Users\\rmcar\\Anaconda\\envs\\learn-env\\lib\\site-packages\\sklearn\\utils\\deprecation.py:143: FutureWarning:\n",
      "\n",
      "The sklearn.ensemble.base module is  deprecated in version 0.22 and will be removed in version 0.24. The corresponding classes / functions should instead be imported from sklearn.ensemble. Anything that cannot be imported from sklearn.ensemble is now part of the private API.\n",
      "\n",
      "C:\\Users\\rmcar\\Anaconda\\envs\\learn-env\\lib\\site-packages\\sklearn\\utils\\deprecation.py:143: FutureWarning:\n",
      "\n",
      "The sklearn.ensemble.forest module is  deprecated in version 0.22 and will be removed in version 0.24. The corresponding classes / functions should instead be imported from sklearn.ensemble. Anything that cannot be imported from sklearn.ensemble is now part of the private API.\n",
      "\n",
      "C:\\Users\\rmcar\\Anaconda\\envs\\learn-env\\lib\\site-packages\\sklearn\\utils\\deprecation.py:143: FutureWarning:\n",
      "\n",
      "The sklearn.utils.testing module is  deprecated in version 0.22 and will be removed in version 0.24. The corresponding classes / functions should instead be imported from sklearn.utils. Anything that cannot be imported from sklearn.utils is now part of the private API.\n",
      "\n",
      "C:\\Users\\rmcar\\Anaconda\\envs\\learn-env\\lib\\site-packages\\sklearn\\utils\\deprecation.py:143: FutureWarning:\n",
      "\n",
      "The sklearn.metrics.classification module is  deprecated in version 0.22 and will be removed in version 0.24. The corresponding classes / functions should instead be imported from sklearn.metrics. Anything that cannot be imported from sklearn.metrics is now part of the private API.\n",
      "\n"
     ]
    }
   ],
   "source": [
    "from fsds.imports import * \n",
    "\n",
    "import nltk\n",
    "from nltk.corpus import stopwords\n",
    "from nltk import word_tokenize, FreqDist, TweetTokenizer\n",
    "\n",
    "from sklearn import metrics\n",
    "from sklearn.feature_extraction.text import TfidfVectorizer, CountVectorizer, TfidfTransformer\n",
    "from sklearn.model_selection import train_test_split\n",
    "from sklearn.metrics import accuracy_score\n",
    "from sklearn.datasets import fetch_20newsgroups\n",
    "from sklearn.ensemble import RandomForestClassifier\n",
    "from sklearn.naive_bayes import MultinomialNB, GaussianNB\n",
    "\n",
    "from imblearn.over_sampling import SMOTE\n",
    "\n",
    "import pandas as pd\n",
    "import numpy as np\n",
    "import string"
   ]
  },
  {
   "cell_type": "code",
   "execution_count": 3,
   "metadata": {},
   "outputs": [
    {
     "data": {
      "text/html": [
       "<div>\n",
       "<style scoped>\n",
       "    .dataframe tbody tr th:only-of-type {\n",
       "        vertical-align: middle;\n",
       "    }\n",
       "\n",
       "    .dataframe tbody tr th {\n",
       "        vertical-align: top;\n",
       "    }\n",
       "\n",
       "    .dataframe thead th {\n",
       "        text-align: right;\n",
       "    }\n",
       "</style>\n",
       "<table border=\"1\" class=\"dataframe\">\n",
       "  <thead>\n",
       "    <tr style=\"text-align: right;\">\n",
       "      <th></th>\n",
       "      <th>text</th>\n",
       "      <th>sentiment</th>\n",
       "    </tr>\n",
       "  </thead>\n",
       "  <tbody>\n",
       "    <tr>\n",
       "      <th>0</th>\n",
       "      <td>.@wesley83 I have a 3G iPhone. After 3 hrs twe...</td>\n",
       "      <td>negative</td>\n",
       "    </tr>\n",
       "    <tr>\n",
       "      <th>1</th>\n",
       "      <td>@jessedee Know about @fludapp ? Awesome iPad/i...</td>\n",
       "      <td>positive</td>\n",
       "    </tr>\n",
       "    <tr>\n",
       "      <th>2</th>\n",
       "      <td>@swonderlin Can not wait for iPad 2 also. They...</td>\n",
       "      <td>positive</td>\n",
       "    </tr>\n",
       "    <tr>\n",
       "      <th>3</th>\n",
       "      <td>@sxsw I hope this year's festival isn't as cra...</td>\n",
       "      <td>negative</td>\n",
       "    </tr>\n",
       "    <tr>\n",
       "      <th>4</th>\n",
       "      <td>@sxtxstate great stuff on Fri SXSW: Marissa Ma...</td>\n",
       "      <td>positive</td>\n",
       "    </tr>\n",
       "    <tr>\n",
       "      <th>...</th>\n",
       "      <td>...</td>\n",
       "      <td>...</td>\n",
       "    </tr>\n",
       "    <tr>\n",
       "      <th>9088</th>\n",
       "      <td>Ipad everywhere. SXSW {link}</td>\n",
       "      <td>positive</td>\n",
       "    </tr>\n",
       "    <tr>\n",
       "      <th>9089</th>\n",
       "      <td>Wave, buzz... RT @mention We interrupt your re...</td>\n",
       "      <td>neutral</td>\n",
       "    </tr>\n",
       "    <tr>\n",
       "      <th>9090</th>\n",
       "      <td>Google's Zeiger, a physician never reported po...</td>\n",
       "      <td>neutral</td>\n",
       "    </tr>\n",
       "    <tr>\n",
       "      <th>9091</th>\n",
       "      <td>Some Verizon iPhone customers complained their...</td>\n",
       "      <td>neutral</td>\n",
       "    </tr>\n",
       "    <tr>\n",
       "      <th>9092</th>\n",
       "      <td>Ï¡Ïàü_ÊÎÒ£Áââ_£â_ÛâRT @...</td>\n",
       "      <td>neutral</td>\n",
       "    </tr>\n",
       "  </tbody>\n",
       "</table>\n",
       "<p>9093 rows × 2 columns</p>\n",
       "</div>"
      ],
      "text/plain": [
       "                                                   text sentiment\n",
       "0     .@wesley83 I have a 3G iPhone. After 3 hrs twe...  negative\n",
       "1     @jessedee Know about @fludapp ? Awesome iPad/i...  positive\n",
       "2     @swonderlin Can not wait for iPad 2 also. They...  positive\n",
       "3     @sxsw I hope this year's festival isn't as cra...  negative\n",
       "4     @sxtxstate great stuff on Fri SXSW: Marissa Ma...  positive\n",
       "...                                                 ...       ...\n",
       "9088                       Ipad everywhere. SXSW {link}  positive\n",
       "9089  Wave, buzz... RT @mention We interrupt your re...   neutral\n",
       "9090  Google's Zeiger, a physician never reported po...   neutral\n",
       "9091  Some Verizon iPhone customers complained their...   neutral\n",
       "9092  Ï¡Ïàü_ÊÎÒ£Áââ_£â_ÛâRT @...   neutral\n",
       "\n",
       "[9093 rows x 2 columns]"
      ]
     },
     "execution_count": 3,
     "metadata": {},
     "output_type": "execute_result"
    }
   ],
   "source": [
    "df = pd.read_csv('data/intro_df.csv')\n",
    "df = df.drop(columns = ['id', 'product'], axis = 1)\n",
    "df"
   ]
  },
  {
   "cell_type": "code",
   "execution_count": 4,
   "metadata": {},
   "outputs": [],
   "source": [
    "stops = (stopwords.words('english') +\n",
    "        list(string.punctuation) +\n",
    "        ['“','”','...',\"''\",'’','``'] + \n",
    "        [\"rt\", \"'s\", \"n't\", \"'re\", \"'m\", \"'ll\", \"--\", \"..\",'link', 'mention', 'austin', 'SXSW', 'sxsw', 'quot'] +\n",
    "        [str(i) for i in range(0, 10)])"
   ]
  },
  {
   "cell_type": "markdown",
   "metadata": {},
   "source": [
    "## 1. Classifying tweets on existence of sentiment\n",
    "We will first construct a binary classifier that splits our data into tweets that contain sentiment and tweets that do not have sentiment. For validating this stage of modelling, we will be most concerned with "
   ]
  },
  {
   "cell_type": "code",
   "execution_count": 5,
   "metadata": {},
   "outputs": [],
   "source": [
    "# we construct our target variable, 1 if a tweet has sentiment, 0 if it does not.\n",
    "\n",
    "has_sentiment_list = []\n",
    "\n",
    "for i in df['sentiment']:\n",
    "    if i == 'positive':\n",
    "        has_sentiment_list.append(1)\n",
    "    elif i == 'negative':\n",
    "        has_sentiment_list.append(1)\n",
    "    else:\n",
    "        has_sentiment_list.append(0)\n",
    "        \n",
    "df['has_sentiment'] = has_sentiment_list"
   ]
  },
  {
   "cell_type": "code",
   "execution_count": 6,
   "metadata": {},
   "outputs": [],
   "source": [
    "df = df.dropna()"
   ]
  },
  {
   "cell_type": "code",
   "execution_count": 7,
   "metadata": {},
   "outputs": [],
   "source": [
    "X = df['text']\n",
    "y = df['has_sentiment']"
   ]
  },
  {
   "cell_type": "code",
   "execution_count": 8,
   "metadata": {},
   "outputs": [],
   "source": [
    "X_train, X_test, y_train, y_test = train_test_split(X, y, random_state = 42, test_size = 0.25)"
   ]
  },
  {
   "cell_type": "code",
   "execution_count": 9,
   "metadata": {},
   "outputs": [
    {
     "data": {
      "text/plain": [
       "(6819,)"
      ]
     },
     "execution_count": 9,
     "metadata": {},
     "output_type": "execute_result"
    }
   ],
   "source": [
    "X_train.shape"
   ]
  },
  {
   "cell_type": "code",
   "execution_count": 10,
   "metadata": {},
   "outputs": [
    {
     "data": {
      "text/plain": [
       "0    0.613726\n",
       "1    0.386274\n",
       "Name: has_sentiment, dtype: float64"
      ]
     },
     "execution_count": 10,
     "metadata": {},
     "output_type": "execute_result"
    }
   ],
   "source": [
    "y_train.value_counts(1)"
   ]
  },
  {
   "cell_type": "code",
   "execution_count": 11,
   "metadata": {},
   "outputs": [],
   "source": [
    "# we tokenize\n",
    "\n",
    "tweet_tokenizer = nltk.TweetTokenizer(preserve_case=False)\n",
    "tweet_vectorizer = TfidfVectorizer(tokenizer = tweet_tokenizer.tokenize,\n",
    "                                 stop_words = stops,\n",
    "                                 decode_error = 'ignore',\n",
    "                                 strip_accents = \"ascii\")\n",
    "# and vectorize\n",
    "\n",
    "X_train_tfidf = tweet_vectorizer.fit_transform(X_train)\n",
    "X_test_tfidf = tweet_vectorizer.transform(X_test)\n"
   ]
  },
  {
   "cell_type": "code",
   "execution_count": 12,
   "metadata": {},
   "outputs": [
    {
     "name": "stderr",
     "output_type": "stream",
     "text": [
      "C:\\Users\\rmcar\\Anaconda\\envs\\learn-env\\lib\\site-packages\\sklearn\\utils\\deprecation.py:86: FutureWarning:\n",
      "\n",
      "Function safe_indexing is deprecated; safe_indexing is deprecated in version 0.22 and will be removed in version 0.24.\n",
      "\n"
     ]
    }
   ],
   "source": [
    "# we need to address our class imbalance, and will do so through SMOTE\n",
    "\n",
    "smote = SMOTE()\n",
    "\n",
    "X_train_tfidf_sm, y_train_sm = smote.fit_sample(X_train_tfidf, y_train)\n"
   ]
  },
  {
   "cell_type": "code",
   "execution_count": 13,
   "metadata": {},
   "outputs": [
    {
     "data": {
      "text/plain": [
       "MultinomialNB()"
      ]
     },
     "execution_count": 13,
     "metadata": {},
     "output_type": "execute_result"
    }
   ],
   "source": [
    "# we initialize our Multinomial Naive Bayes Classifier\n",
    "\n",
    "NB = MultinomialNB()\n",
    "NB.fit(X_train_tfidf_sm, y_train_sm)"
   ]
  },
  {
   "cell_type": "code",
   "execution_count": 14,
   "metadata": {},
   "outputs": [],
   "source": [
    "\n",
    "y_pred_sm = NB.predict(X_test_tfidf)"
   ]
  },
  {
   "cell_type": "code",
   "execution_count": 15,
   "metadata": {},
   "outputs": [],
   "source": [
    "def evaluate_model(y_test,y_hat_test,X_test,clf=None,\n",
    "                  scoring=metrics.recall_score,verbose=False,\n",
    "                  scorer=False, classes = None):\n",
    "    \"\"\"Quick/simple classification model evaluatiin\"\"\"\n",
    "\n",
    "    print(metrics.classification_report(y_test,y_hat_test,\n",
    "                                        target_names=classes))\n",
    "    \n",
    "    metrics.plot_confusion_matrix(clf,X_test,y_test,normalize='true',\n",
    "                                 cmap='Blues',display_labels=classes)\n",
    "    plt.show()"
   ]
  },
  {
   "cell_type": "markdown",
   "metadata": {},
   "source": [
    "#### Naive Bayes Smoted"
   ]
  },
  {
   "cell_type": "code",
   "execution_count": 16,
   "metadata": {},
   "outputs": [
    {
     "name": "stdout",
     "output_type": "stream",
     "text": [
      "              precision    recall  f1-score   support\n",
      "\n",
      "  No Emotion       0.74      0.61      0.67      1359\n",
      "     Emotion       0.54      0.68      0.61       914\n",
      "\n",
      "    accuracy                           0.64      2273\n",
      "   macro avg       0.64      0.65      0.64      2273\n",
      "weighted avg       0.66      0.64      0.65      2273\n",
      "\n"
     ]
    },
    {
     "data": {
      "image/png": "[encoded data removed]",
      "text/plain": [
       "<Figure size 432x288 with 2 Axes>"
      ]
     },
     "metadata": {
      "needs_background": "light"
     },
     "output_type": "display_data"
    }
   ],
   "source": [
    "evaluate_model(y_test, y_pred_sm, X_test_tfidf, clf=NB, classes = ['No Emotion', 'Emotion'])"
   ]
  },
  {
   "cell_type": "markdown",
   "metadata": {},
   "source": [
    "#### Naive Bayes Non-Smoted"
   ]
  },
  {
   "cell_type": "code",
   "execution_count": 17,
   "metadata": {},
   "outputs": [
    {
     "name": "stdout",
     "output_type": "stream",
     "text": [
      "              precision    recall  f1-score   support\n",
      "\n",
      "  No Emotion       0.67      0.89      0.77      1359\n",
      "     Emotion       0.69      0.35      0.47       914\n",
      "\n",
      "    accuracy                           0.68      2273\n",
      "   macro avg       0.68      0.62      0.62      2273\n",
      "weighted avg       0.68      0.68      0.65      2273\n",
      "\n"
     ]
    },
    {
     "data": {
      "image/png": "[encoded data removed]",
      "text/plain": [
       "<Figure size 432x288 with 2 Axes>"
      ]
     },
     "metadata": {
      "needs_background": "light"
     },
     "output_type": "display_data"
    }
   ],
   "source": [
    "NB.fit(X_train_tfidf, y_train)\n",
    "y_pred = NB.predict(X_test_tfidf)\n",
    "evaluate_model(y_test, y_pred, X_test_tfidf, clf = NB, classes = ['No Emotion', 'Emotion'])"
   ]
  },
  {
   "cell_type": "markdown",
   "metadata": {},
   "source": [
    "The comparison here is to be expected. Because our smoted word vectors are balanced, there is some balance between our errors. Conversely, without smoting our data, we can see that our classifier is biased toward classifying a tweet as having no emotion, which is an issue, because the entire point of this model is to provide another dataset to be further classified between positive and negative emotion. Thus, we should try to avoid classifying tweets as having no sentiment, because this would remove them from the workflow and provide less information to our next model. "
   ]
  },
  {
   "cell_type": "code",
   "execution_count": 18,
   "metadata": {},
   "outputs": [
    {
     "data": {
      "text/plain": [
       "RandomForestClassifier()"
      ]
     },
     "execution_count": 18,
     "metadata": {},
     "output_type": "execute_result"
    }
   ],
   "source": [
    "# we initialize our Random Forest classifier\n",
    "RF = RandomForestClassifier()\n",
    "RF.fit(X_train_tfidf_sm, y_train_sm)"
   ]
  },
  {
   "cell_type": "code",
   "execution_count": 19,
   "metadata": {},
   "outputs": [],
   "source": [
    "\n",
    "y_pred_sm = RF.predict(X_test_tfidf)"
   ]
  },
  {
   "cell_type": "markdown",
   "metadata": {},
   "source": [
    "#### Random Forest Smoted"
   ]
  },
  {
   "cell_type": "code",
   "execution_count": 20,
   "metadata": {
    "scrolled": true
   },
   "outputs": [
    {
     "name": "stdout",
     "output_type": "stream",
     "text": [
      "              precision    recall  f1-score   support\n",
      "\n",
      "  No Emotion       0.72      0.77      0.75      1359\n",
      "     Emotion       0.62      0.56      0.59       914\n",
      "\n",
      "    accuracy                           0.69      2273\n",
      "   macro avg       0.67      0.66      0.67      2273\n",
      "weighted avg       0.68      0.69      0.68      2273\n",
      "\n"
     ]
    },
    {
     "data": {
      "image/png": "[encoded data removed]",
      "text/plain": [
       "<Figure size 432x288 with 2 Axes>"
      ]
     },
     "metadata": {
      "needs_background": "light"
     },
     "output_type": "display_data"
    }
   ],
   "source": [
    "evaluate_model(y_test, y_pred_sm, X_test_tfidf, clf=RF, classes = ['No Emotion', 'Emotion'])"
   ]
  },
  {
   "cell_type": "markdown",
   "metadata": {},
   "source": [
    "#### Random Forest Non-Smoted"
   ]
  },
  {
   "cell_type": "code",
   "execution_count": 21,
   "metadata": {},
   "outputs": [
    {
     "name": "stdout",
     "output_type": "stream",
     "text": [
      "              precision    recall  f1-score   support\n",
      "\n",
      "  No Emotion       0.70      0.84      0.76      1359\n",
      "     Emotion       0.66      0.46      0.54       914\n",
      "\n",
      "    accuracy                           0.69      2273\n",
      "   macro avg       0.68      0.65      0.65      2273\n",
      "weighted avg       0.68      0.69      0.67      2273\n",
      "\n"
     ]
    },
    {
     "data": {
      "image/png": "[encoded data removed]",
      "text/plain": [
       "<Figure size 432x288 with 2 Axes>"
      ]
     },
     "metadata": {
      "needs_background": "light"
     },
     "output_type": "display_data"
    }
   ],
   "source": [
    "RF2 = RandomForestClassifier()\n",
    "RF2.fit(X_train_tfidf, y_train)\n",
    "y_pred = RF2.predict(X_test_tfidf)\n",
    "evaluate_model(y_test, y_pred, X_test_tfidf, clf = RF2, classes = ['No Emotion', 'Emotion'])"
   ]
  },
  {
   "cell_type": "markdown",
   "metadata": {},
   "source": [
    "Well this is just terrible. "
   ]
  },
  {
   "cell_type": "code",
   "execution_count": 22,
   "metadata": {},
   "outputs": [],
   "source": [
    "# using Gausssian NB\n",
    "GNB = GaussianNB()"
   ]
  },
  {
   "cell_type": "markdown",
   "metadata": {},
   "source": [
    "#### Gaussian Naive Bayes"
   ]
  },
  {
   "cell_type": "code",
   "execution_count": 23,
   "metadata": {
    "scrolled": false
   },
   "outputs": [
    {
     "ename": "TypeError",
     "evalue": "A sparse matrix was passed, but dense data is required. Use X.toarray() to convert to a dense numpy array.",
     "output_type": "error",
     "traceback": [
      "\u001b[1;31m---------------------------------------------------------------------------\u001b[0m",
      "\u001b[1;31mTypeError\u001b[0m                                 Traceback (most recent call last)",
      "\u001b[1;32m<ipython-input-23-67138048dd39>\u001b[0m in \u001b[0;36m<module>\u001b[1;34m\u001b[0m\n\u001b[0;32m      1\u001b[0m \u001b[0mGNB\u001b[0m\u001b[1;33m.\u001b[0m\u001b[0mfit\u001b[0m\u001b[1;33m(\u001b[0m\u001b[0mX_train_tfidf\u001b[0m\u001b[1;33m.\u001b[0m\u001b[0mtoarray\u001b[0m\u001b[1;33m(\u001b[0m\u001b[1;33m)\u001b[0m\u001b[1;33m,\u001b[0m \u001b[0my_train\u001b[0m\u001b[1;33m)\u001b[0m\u001b[1;33m\u001b[0m\u001b[1;33m\u001b[0m\u001b[0m\n\u001b[1;32m----> 2\u001b[1;33m \u001b[0my_pred\u001b[0m \u001b[1;33m=\u001b[0m \u001b[0mGNB\u001b[0m\u001b[1;33m.\u001b[0m\u001b[0mpredict\u001b[0m\u001b[1;33m(\u001b[0m\u001b[0mX_test_tfidf\u001b[0m\u001b[1;33m)\u001b[0m\u001b[1;33m\u001b[0m\u001b[1;33m\u001b[0m\u001b[0m\n\u001b[0m\u001b[0;32m      3\u001b[0m \u001b[0mevaluate_model\u001b[0m\u001b[1;33m(\u001b[0m\u001b[0my_test\u001b[0m\u001b[1;33m,\u001b[0m \u001b[0my_pred\u001b[0m\u001b[1;33m,\u001b[0m \u001b[0mX_test_tfidf\u001b[0m\u001b[1;33m.\u001b[0m\u001b[0mtoarray\u001b[0m\u001b[1;33m(\u001b[0m\u001b[1;33m)\u001b[0m\u001b[1;33m,\u001b[0m \u001b[0mclf\u001b[0m \u001b[1;33m=\u001b[0m \u001b[0mGNB\u001b[0m\u001b[1;33m,\u001b[0m \u001b[0mclasses\u001b[0m \u001b[1;33m=\u001b[0m \u001b[1;33m[\u001b[0m\u001b[1;34m'No Emotion'\u001b[0m\u001b[1;33m,\u001b[0m \u001b[1;34m'Emotion'\u001b[0m\u001b[1;33m]\u001b[0m\u001b[1;33m)\u001b[0m\u001b[1;33m\u001b[0m\u001b[1;33m\u001b[0m\u001b[0m\n",
      "\u001b[1;32m~\\Anaconda\\envs\\learn-env\\lib\\site-packages\\sklearn\\naive_bayes.py\u001b[0m in \u001b[0;36mpredict\u001b[1;34m(self, X)\u001b[0m\n\u001b[0;32m     75\u001b[0m         \"\"\"\n\u001b[0;32m     76\u001b[0m         \u001b[0mcheck_is_fitted\u001b[0m\u001b[1;33m(\u001b[0m\u001b[0mself\u001b[0m\u001b[1;33m)\u001b[0m\u001b[1;33m\u001b[0m\u001b[1;33m\u001b[0m\u001b[0m\n\u001b[1;32m---> 77\u001b[1;33m         \u001b[0mX\u001b[0m \u001b[1;33m=\u001b[0m \u001b[0mself\u001b[0m\u001b[1;33m.\u001b[0m\u001b[0m_check_X\u001b[0m\u001b[1;33m(\u001b[0m\u001b[0mX\u001b[0m\u001b[1;33m)\u001b[0m\u001b[1;33m\u001b[0m\u001b[1;33m\u001b[0m\u001b[0m\n\u001b[0m\u001b[0;32m     78\u001b[0m         \u001b[0mjll\u001b[0m \u001b[1;33m=\u001b[0m \u001b[0mself\u001b[0m\u001b[1;33m.\u001b[0m\u001b[0m_joint_log_likelihood\u001b[0m\u001b[1;33m(\u001b[0m\u001b[0mX\u001b[0m\u001b[1;33m)\u001b[0m\u001b[1;33m\u001b[0m\u001b[1;33m\u001b[0m\u001b[0m\n\u001b[0;32m     79\u001b[0m         \u001b[1;32mreturn\u001b[0m \u001b[0mself\u001b[0m\u001b[1;33m.\u001b[0m\u001b[0mclasses_\u001b[0m\u001b[1;33m[\u001b[0m\u001b[0mnp\u001b[0m\u001b[1;33m.\u001b[0m\u001b[0margmax\u001b[0m\u001b[1;33m(\u001b[0m\u001b[0mjll\u001b[0m\u001b[1;33m,\u001b[0m \u001b[0maxis\u001b[0m\u001b[1;33m=\u001b[0m\u001b[1;36m1\u001b[0m\u001b[1;33m)\u001b[0m\u001b[1;33m]\u001b[0m\u001b[1;33m\u001b[0m\u001b[1;33m\u001b[0m\u001b[0m\n",
      "\u001b[1;32m~\\Anaconda\\envs\\learn-env\\lib\\site-packages\\sklearn\\naive_bayes.py\u001b[0m in \u001b[0;36m_check_X\u001b[1;34m(self, X)\u001b[0m\n\u001b[0;32m    214\u001b[0m \u001b[1;33m\u001b[0m\u001b[0m\n\u001b[0;32m    215\u001b[0m     \u001b[1;32mdef\u001b[0m \u001b[0m_check_X\u001b[0m\u001b[1;33m(\u001b[0m\u001b[0mself\u001b[0m\u001b[1;33m,\u001b[0m \u001b[0mX\u001b[0m\u001b[1;33m)\u001b[0m\u001b[1;33m:\u001b[0m\u001b[1;33m\u001b[0m\u001b[1;33m\u001b[0m\u001b[0m\n\u001b[1;32m--> 216\u001b[1;33m         \u001b[1;32mreturn\u001b[0m \u001b[0mcheck_array\u001b[0m\u001b[1;33m(\u001b[0m\u001b[0mX\u001b[0m\u001b[1;33m)\u001b[0m\u001b[1;33m\u001b[0m\u001b[1;33m\u001b[0m\u001b[0m\n\u001b[0m\u001b[0;32m    217\u001b[0m \u001b[1;33m\u001b[0m\u001b[0m\n\u001b[0;32m    218\u001b[0m     \u001b[1;33m@\u001b[0m\u001b[0mstaticmethod\u001b[0m\u001b[1;33m\u001b[0m\u001b[1;33m\u001b[0m\u001b[0m\n",
      "\u001b[1;32m~\\Anaconda\\envs\\learn-env\\lib\\site-packages\\sklearn\\utils\\validation.py\u001b[0m in \u001b[0;36minner_f\u001b[1;34m(*args, **kwargs)\u001b[0m\n\u001b[0;32m     70\u001b[0m                           FutureWarning)\n\u001b[0;32m     71\u001b[0m         \u001b[0mkwargs\u001b[0m\u001b[1;33m.\u001b[0m\u001b[0mupdate\u001b[0m\u001b[1;33m(\u001b[0m\u001b[1;33m{\u001b[0m\u001b[0mk\u001b[0m\u001b[1;33m:\u001b[0m \u001b[0marg\u001b[0m \u001b[1;32mfor\u001b[0m \u001b[0mk\u001b[0m\u001b[1;33m,\u001b[0m \u001b[0marg\u001b[0m \u001b[1;32min\u001b[0m \u001b[0mzip\u001b[0m\u001b[1;33m(\u001b[0m\u001b[0msig\u001b[0m\u001b[1;33m.\u001b[0m\u001b[0mparameters\u001b[0m\u001b[1;33m,\u001b[0m \u001b[0margs\u001b[0m\u001b[1;33m)\u001b[0m\u001b[1;33m}\u001b[0m\u001b[1;33m)\u001b[0m\u001b[1;33m\u001b[0m\u001b[1;33m\u001b[0m\u001b[0m\n\u001b[1;32m---> 72\u001b[1;33m         \u001b[1;32mreturn\u001b[0m \u001b[0mf\u001b[0m\u001b[1;33m(\u001b[0m\u001b[1;33m**\u001b[0m\u001b[0mkwargs\u001b[0m\u001b[1;33m)\u001b[0m\u001b[1;33m\u001b[0m\u001b[1;33m\u001b[0m\u001b[0m\n\u001b[0m\u001b[0;32m     73\u001b[0m     \u001b[1;32mreturn\u001b[0m \u001b[0minner_f\u001b[0m\u001b[1;33m\u001b[0m\u001b[1;33m\u001b[0m\u001b[0m\n\u001b[0;32m     74\u001b[0m \u001b[1;33m\u001b[0m\u001b[0m\n",
      "\u001b[1;32m~\\Anaconda\\envs\\learn-env\\lib\\site-packages\\sklearn\\utils\\validation.py\u001b[0m in \u001b[0;36mcheck_array\u001b[1;34m(array, accept_sparse, accept_large_sparse, dtype, order, copy, force_all_finite, ensure_2d, allow_nd, ensure_min_samples, ensure_min_features, estimator)\u001b[0m\n\u001b[0;32m    576\u001b[0m                                       \u001b[0mdtype\u001b[0m\u001b[1;33m=\u001b[0m\u001b[0mdtype\u001b[0m\u001b[1;33m,\u001b[0m \u001b[0mcopy\u001b[0m\u001b[1;33m=\u001b[0m\u001b[0mcopy\u001b[0m\u001b[1;33m,\u001b[0m\u001b[1;33m\u001b[0m\u001b[1;33m\u001b[0m\u001b[0m\n\u001b[0;32m    577\u001b[0m                                       \u001b[0mforce_all_finite\u001b[0m\u001b[1;33m=\u001b[0m\u001b[0mforce_all_finite\u001b[0m\u001b[1;33m,\u001b[0m\u001b[1;33m\u001b[0m\u001b[1;33m\u001b[0m\u001b[0m\n\u001b[1;32m--> 578\u001b[1;33m                                       accept_large_sparse=accept_large_sparse)\n\u001b[0m\u001b[0;32m    579\u001b[0m     \u001b[1;32melse\u001b[0m\u001b[1;33m:\u001b[0m\u001b[1;33m\u001b[0m\u001b[1;33m\u001b[0m\u001b[0m\n\u001b[0;32m    580\u001b[0m         \u001b[1;31m# If np.array(..) gives ComplexWarning, then we convert the warning\u001b[0m\u001b[1;33m\u001b[0m\u001b[1;33m\u001b[0m\u001b[1;33m\u001b[0m\u001b[0m\n",
      "\u001b[1;32m~\\Anaconda\\envs\\learn-env\\lib\\site-packages\\sklearn\\utils\\validation.py\u001b[0m in \u001b[0;36m_ensure_sparse_format\u001b[1;34m(spmatrix, accept_sparse, dtype, copy, force_all_finite, accept_large_sparse)\u001b[0m\n\u001b[0;32m    351\u001b[0m \u001b[1;33m\u001b[0m\u001b[0m\n\u001b[0;32m    352\u001b[0m     \u001b[1;32mif\u001b[0m \u001b[0maccept_sparse\u001b[0m \u001b[1;32mis\u001b[0m \u001b[1;32mFalse\u001b[0m\u001b[1;33m:\u001b[0m\u001b[1;33m\u001b[0m\u001b[1;33m\u001b[0m\u001b[0m\n\u001b[1;32m--> 353\u001b[1;33m         raise TypeError('A sparse matrix was passed, but dense '\n\u001b[0m\u001b[0;32m    354\u001b[0m                         \u001b[1;34m'data is required. Use X.toarray() to '\u001b[0m\u001b[1;33m\u001b[0m\u001b[1;33m\u001b[0m\u001b[0m\n\u001b[0;32m    355\u001b[0m                         'convert to a dense numpy array.')\n",
      "\u001b[1;31mTypeError\u001b[0m: A sparse matrix was passed, but dense data is required. Use X.toarray() to convert to a dense numpy array."
     ]
    }
   ],
   "source": [
    "GNB.fit(X_train_tfidf.toarray(), y_train)\n",
    "y_pred = GNB.predict(X_test_tfidf)\n",
    "evaluate_model(y_test, y_pred, X_test_tfidf.toarray(), clf = GNB, classes = ['No Emotion', 'Emotion'])"
   ]
  },
  {
   "cell_type": "markdown",
   "metadata": {},
   "source": [
    " So, while a Gaussian Naive Bayes estimator performs best on tweets that contain sentiment, Multinomial NB is better suited to \n",
    " classifying tweets that have no sentiment. Let's forget random forest happened. For our purposes, which will be better fulfilled with a larger pool of tweets\n",
    " classified as sentimental, we will be continuing with our Gaussian Naive Bayes."
   ]
  },
  {
   "cell_type": "markdown",
   "metadata": {},
   "source": [
    "## 2. Classifying Tweets as Positive or Negative"
   ]
  },
  {
   "cell_type": "markdown",
   "metadata": {},
   "source": [
    "Now we build a model that is able to distinguish between positive and negative tweets, assuming that we have a dataset that contains exclusively negative and postive tweets, no neutral tweets. In general, it is more important to correctly classify negative sentiment over positive sentiment, because a business is always looking for ways to improve. As such, we will be prioritizing accuracy during this phase of modelling. "
   ]
  },
  {
   "cell_type": "code",
   "execution_count": null,
   "metadata": {},
   "outputs": [],
   "source": [
    "df_sentiment = pd.read_csv('data/sentimental_df.csv')\n",
    "df = df_sentiment.drop(columns = ['id', 'id.1', 'product', 'is_google', 'is_apple', 'has_sentiment', 'sentiment'])\n",
    "df"
   ]
  },
  {
   "cell_type": "code",
   "execution_count": null,
   "metadata": {},
   "outputs": [],
   "source": [
    "X = df['text']\n",
    "y = df['pos_sentiment']\n",
    "\n",
    "sum(y), len(y) # again, very strong class imbalance. Much stronger than in our prior model. "
   ]
  },
  {
   "cell_type": "code",
   "execution_count": null,
   "metadata": {},
   "outputs": [],
   "source": [
    "X_train, X_test, y_train, y_test = train_test_split(X, y, random_state = 42, test_size = 0.25)"
   ]
  },
  {
   "cell_type": "code",
   "execution_count": null,
   "metadata": {},
   "outputs": [],
   "source": [
    "tweet_tokenizer = nltk.TweetTokenizer(preserve_case=False)\n",
    "tweet_vectorizer = TfidfVectorizer(tokenizer = tweet_tokenizer.tokenize,\n",
    "                                 stop_words = stops,\n",
    "                                 decode_error = 'ignore',\n",
    "                                 strip_accents = \"ascii\")\n",
    "\n",
    "X_train_tfidf = tweet_vectorizer.fit_transform(X_train)\n",
    "X_test_tfidf = tweet_vectorizer.transform(X_test)"
   ]
  },
  {
   "cell_type": "code",
   "execution_count": null,
   "metadata": {},
   "outputs": [],
   "source": [
    "# we initialize our models\n",
    "\n",
    "NB = MultinomialNB()\n",
    "GNB = GaussianNB()\n",
    "RF = RandomForestClassifier(n_estimators = 100)"
   ]
  },
  {
   "cell_type": "markdown",
   "metadata": {},
   "source": [
    "#### Naive Bayes"
   ]
  },
  {
   "cell_type": "code",
   "execution_count": null,
   "metadata": {},
   "outputs": [],
   "source": [
    "# Naive Bayes\n",
    "NB.fit(X_train_tfidf_sm, y_train_sm)\n",
    "y_pred = NB.predict(X_test_tfidf)\n",
    "evaluate_model(y_test, y_pred, X_test_tfidf, clf = NB, classes = ['Positive', 'Negative'])"
   ]
  },
  {
   "cell_type": "markdown",
   "metadata": {},
   "source": [
    "#### Gaussian Naive Bayes"
   ]
  },
  {
   "cell_type": "code",
   "execution_count": null,
   "metadata": {
    "scrolled": true
   },
   "outputs": [],
   "source": [
    "# Gaussian Naive Bayes()\n",
    "GNB.fit(X_train_tfidf_sm.toarray(), y_train_sm)\n",
    "y_pred = GNB.predict(X_test_tfidf.toarray())\n",
    "evaluate_model(y_test, y_pred, X_test_tfidf.toarray(), clf = GNB, classes = ['Positive', 'Negative'])"
   ]
  },
  {
   "cell_type": "markdown",
   "metadata": {},
   "source": [
    "#### Random Forest"
   ]
  },
  {
   "cell_type": "code",
   "execution_count": null,
   "metadata": {
    "scrolled": true
   },
   "outputs": [],
   "source": [
    "# Random Forest\n",
    "RF.fit(X_train_tfidf_sm, y_train_sm)\n",
    "y_pred = RF.predict(X_test_tfidf)\n",
    "evaluate_model(y_test, y_pred, X_test_tfidf, clf = RF, classes = ['Positive', 'Negative'])"
   ]
  },
  {
   "cell_type": "markdown",
   "metadata": {},
   "source": [
    "According to weighted F1 scores, our Random Forest classifier performed best in this phase, and also was extremely accurate in classifying negative tweets, which lends to a great accuracy score of 87%. "
   ]
  },
  {
   "cell_type": "markdown",
   "metadata": {},
   "source": [
    "# Modelling Conclusions"
   ]
  },
  {
   "cell_type": "markdown",
   "metadata": {},
   "source": [
    "We broke our modelling process into two steps; first, we classified our tweets on the existence of sentiment, splitting between neutral tweets and positive/negative tweets. Then, we classifed based upon positive or negative sentiment. We found that for classifying sentiment existence, Gaussian Naive Bayes performed best for our purposes, and for classifying positivity or negativity, a Random Forest perfomed best. "
   ]
  },
  {
   "cell_type": "markdown",
   "metadata": {},
   "source": [
    "# Further Work"
   ]
  },
  {
   "cell_type": "markdown",
   "metadata": {},
   "source": [
    "We decided to complete a two-stage classification process due to the heavy class imbalance that existed in our data. By lumping positive and negative tweets together, we were able to address class imbalance in the initial model. By removing neutral tweets first, we were also able to address the fact that neutral tweets far outnumbered positive or negative tweets. Had we completed a mutliclassification model, it would have certainly been extremely biased toward neutral tweets. By collecting a more balanced dataset, we would be better able to construct more elegant models."
   ]
  },
  {
   "cell_type": "markdown",
   "metadata": {},
   "source": [
    "Also, our data was clearly collected from a small sample space. This is evidenced by the fact that many of the tweets mentioned SXSW, or Austin. This informed us that these tweets are collected from one small area, during a small time period. While this is not an issue if we are looking to only make a model that can predict sentiment based on this small sample space, the applications of such a model are limited. Instead, we should strive to collect data that represents our full sample space, or all of twitter, to build a model that can be applied in most situations. "
   ]
  },
  {
   "cell_type": "code",
   "execution_count": null,
   "metadata": {},
   "outputs": [],
   "source": []
  }
 ],
 "metadata": {
  "kernelspec": {
   "display_name": "Python 3",
   "language": "python",
   "name": "python3"
  },
  "language_info": {
   "codemirror_mode": {
    "name": "ipython",
    "version": 3
   },
   "file_extension": ".py",
   "mimetype": "text/x-python",
   "name": "python",
   "nbconvert_exporter": "python",
   "pygments_lexer": "ipython3",
   "version": "3.6.12"
  }
 },
 "nbformat": 4,
 "nbformat_minor": 4
}
